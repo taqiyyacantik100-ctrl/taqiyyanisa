{
  "nbformat": 4,
  "nbformat_minor": 0,
  "metadata": {
    "colab": {
      "provenance": [],
      "authorship_tag": "ABX9TyNkQ5KlcsXcjnpKaij9x5Z7",
      "include_colab_link": true
    },
    "kernelspec": {
      "name": "python3",
      "display_name": "Python 3"
    },
    "language_info": {
      "name": "python"
    }
  },
  "cells": [
    {
      "cell_type": "markdown",
      "metadata": {
        "id": "view-in-github",
        "colab_type": "text"
      },
      "source": [
        "<a href=\"https://colab.research.google.com/github/taqiyyacantik100-ctrl/taqiyyanisa/blob/main/1_Fungsi_print_Taqiyya_zn_XI_3.ipynb\" target=\"_parent\"><img src=\"https://colab.research.google.com/assets/colab-badge.svg\" alt=\"Open In Colab\"/></a>"
      ]
    },
    {
      "cell_type": "markdown",
      "source": [
        "Nama : Taqiyya Zahrotun Nisa\n",
        "\n",
        "usia : 15\n",
        "\n",
        "No.absen: 30"
      ],
      "metadata": {
        "id": "tNxZ5olMZc92"
      }
    },
    {
      "cell_type": "markdown",
      "source": [
        "#Menampilkan String(Teks Bebas)"
      ],
      "metadata": {
        "id": "GnpjdjtAahp2"
      }
    },
    {
      "cell_type": "code",
      "source": [
        "print(\"Taqiyya Zahrotun Nisa\")"
      ],
      "metadata": {
        "colab": {
          "base_uri": "https://localhost:8080/"
        },
        "id": "C8XBow0Sby71",
        "outputId": "bc8cbd62-2cb2-4610-b27c-31aed7e4b777"
      },
      "execution_count": null,
      "outputs": [
        {
          "output_type": "stream",
          "name": "stdout",
          "text": [
            "Taqiyya Zahrotun Nisa\n"
          ]
        }
      ]
    },
    {
      "cell_type": "markdown",
      "source": [
        "#Menampilkan Nilai Variabel"
      ],
      "metadata": {
        "id": "XAavC4wZcAIm"
      }
    },
    {
      "cell_type": "code",
      "source": [
        "Nama:\"Taqiyya Zahrotun Nisa\"\n",
        "usia: 15\n",
        "Tinggi_badan:155\n",
        "\n",
        "print(Nama)\n",
        "print(usia)\n",
        "print(Tinggi_badan)"
      ],
      "metadata": {
        "colab": {
          "base_uri": "https://localhost:8080/"
        },
        "id": "MINxAP5aa2qZ",
        "outputId": "1bdc1276-caf6-4264-8a29-a0279b715f43"
      },
      "execution_count": null,
      "outputs": [
        {
          "output_type": "stream",
          "name": "stdout",
          "text": [
            "Taqiyya Zahrotun Nisa\n",
            "15\n",
            "155\n"
          ]
        }
      ]
    },
    {
      "cell_type": "markdown",
      "source": [
        "#Parameter fungsi print"
      ],
      "metadata": {
        "id": "TlSfWfW9bhQi"
      }
    },
    {
      "cell_type": "code",
      "source": [
        "nama_siswa_1 = \"Yafi\"\n",
        "nama_siswa_2 = \"Wahyu\""
      ],
      "metadata": {
        "id": "ApAM0D1WbtRL"
      },
      "execution_count": 1,
      "outputs": []
    },
    {
      "cell_type": "code",
      "source": [
        "print(nama_siswa_1, end=\"&\")\n",
        "print(nama_siswa_2)"
      ],
      "metadata": {
        "colab": {
          "base_uri": "https://localhost:8080/"
        },
        "id": "_geNXzpkcCnT",
        "outputId": "95a9c954-f1b5-4902-a412-9d1d11e75685"
      },
      "execution_count": 2,
      "outputs": [
        {
          "output_type": "stream",
          "name": "stdout",
          "text": [
            "Yafi&Wahyu\n"
          ]
        }
      ]
    },
    {
      "cell_type": "code",
      "source": [
        "print(nama_siswa_1, nama_siswa_2, sep=\"/\")"
      ],
      "metadata": {
        "colab": {
          "base_uri": "https://localhost:8080/"
        },
        "id": "AkIxtjmZcc6o",
        "outputId": "7e791c34-1396-4e03-bf2f-b29b6d312064"
      },
      "execution_count": 3,
      "outputs": [
        {
          "output_type": "stream",
          "name": "stdout",
          "text": [
            "Yafi/Wahyu\n"
          ]
        }
      ]
    },
    {
      "cell_type": "markdown",
      "source": [
        "#Latihan soal"
      ],
      "metadata": {
        "id": "B5YdO8gLcwNi"
      }
    },
    {
      "cell_type": "code",
      "source": [
        "nama_siswa_3 = \"Dzakka\"\n",
        "nama_siswa_4 = \"Haikal\"\n",
        "nama_siswa_5 = \"Hilma\""
      ],
      "metadata": {
        "id": "LpQq9Z01c1qm"
      },
      "execution_count": null,
      "outputs": []
    },
    {
      "cell_type": "code",
      "source": [
        "print(nama_siswa_5, end=\"*\"\n",
        "print(nama_siswa_4, end=\"*\"\n",
        "print(nama_siswa_3, end=\"*\"\n",
        "print(nama_siswa_5)"
      ],
      "metadata": {
        "id": "j3s_85VNdQR6"
      },
      "execution_count": null,
      "outputs": []
    }
  ]
}